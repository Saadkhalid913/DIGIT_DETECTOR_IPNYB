{
  "nbformat": 4,
  "nbformat_minor": 0,
  "metadata": {
    "colab": {
      "name": "DIGIT_DETECTOR.ipynb",
      "provenance": [],
      "collapsed_sections": []
    },
    "kernelspec": {
      "name": "python3",
      "display_name": "Python 3"
    }
  },
  "cells": [
    {
      "cell_type": "code",
      "metadata": {
        "id": "SnxaMjdM2Dl1"
      },
      "source": [
        "import numpy as np\r\n",
        "import matplotlib.pyplot as plt\r\n",
        "import tensorflow as tf\r\n",
        "import pandas as pd\r\n",
        "from keras.preprocessing import image as im\r\n",
        "from keras.preprocessing.image import ImageDataGenerator\r\n",
        "import os \r\n",
        "from pathlib import Path \r\n",
        "\r\n",
        "class_indices = {'eight': 0, 'five': 1, 'four': 2, 'nine': 3, 'one': 4, 'seven': 5, 'six': 6, 'three': 7, 'two': 8, 'zero': 9}\r\n",
        "try:\r\n",
        "  os.mkdir(\"IMAGES\")\r\n",
        "except FileExistsError:\r\n",
        "  pass"
      ],
      "execution_count": 33,
      "outputs": []
    },
    {
      "cell_type": "code",
      "metadata": {
        "id": "eqnZt4zV2FKm"
      },
      "source": [
        "cnn = tf.keras.models.load_model(\"/content/MODEL\")"
      ],
      "execution_count": 34,
      "outputs": []
    },
    {
      "cell_type": "code",
      "metadata": {
        "id": "J4aXXCPC-ubU",
        "colab": {
          "base_uri": "https://localhost:8080/"
        },
        "outputId": "d4cfb8c9-9ea7-447a-a173-c8b5427a2c7a"
      },
      "source": [
        "for image_path in Path(\"IMAGES\").iterdir():\r\n",
        "  if image_path.is_dir():\r\n",
        "    continue\r\n",
        "  img = image.load_img(image_path, target_size=(64,64), color_mode=\"grayscale\")\r\n",
        "  img = image.img_to_array(img)\r\n",
        "  img = np.array([img])\r\n",
        "  res = cnn.predict(img)[0]\r\n",
        "  max = 0\r\n",
        "  ind = 0\r\n",
        "\r\n",
        "  for i, k in enumerate(res):\r\n",
        "    if k > max:\r\n",
        "      max = k\r\n",
        "      ind = i\r\n",
        "\r\n",
        "  indices = {class_indices[key]: key for key in class_indices }\r\n",
        "  print(image_path,\" --- \",  indices[ind], \"%s\" % (max*100) + \"%\")\r\n",
        "\r\n",
        "\r\n",
        "\r\n",
        "\r\n"
      ],
      "execution_count": 40,
      "outputs": [
        {
          "output_type": "stream",
          "text": [
            "IMAGES/seven.PNG  ---  seven 100.0%\n",
            "IMAGES/five.PNG  ---  five 100.0%\n",
            "IMAGES/three.PNG  ---  three 100.0%\n",
            "IMAGES/six.PNG  ---  six 100.0%\n",
            "IMAGES/four.PNG  ---  four 100.0%\n",
            "IMAGES/two.PNG  ---  two 56.0805082321167%\n",
            "IMAGES/one.PNG  ---  two 100.0%\n",
            "IMAGES/zero.PNG  ---  zero 100.0%\n",
            "IMAGES/nine.PNG  ---  nine 100.0%\n",
            "IMAGES/eight.PNG  ---  eight 100.0%\n"
          ],
          "name": "stdout"
        }
      ]
    }
  ]
}